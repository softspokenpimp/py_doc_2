{
 "cells": [
  {
   "cell_type": "markdown",
   "metadata": {},
   "source": [
    "# Functions, Scoping, Data Collections 1 & List Comprehensions"
   ]
  },
  {
   "cell_type": "markdown",
   "metadata": {},
   "source": [
    "## Tasks Today:\n",
    "\n",
    "<i>Monday Additions (or, and ... if statements)</i>\n",
    "\n",
    "1) String Manipulation <br>\n",
    " &nbsp;&nbsp;&nbsp;&nbsp; a) strip() <br>\n",
    " &nbsp;&nbsp;&nbsp;&nbsp; b) title() <br>\n",
    "2) Working With Lists <br>\n",
    " &nbsp;&nbsp;&nbsp;&nbsp; a) min() <br>\n",
    " &nbsp;&nbsp;&nbsp;&nbsp; b) max() <br>\n",
    " &nbsp;&nbsp;&nbsp;&nbsp; c) sum() <br>\n",
    " &nbsp;&nbsp;&nbsp;&nbsp; d) sort() <br>\n",
    " &nbsp;&nbsp;&nbsp;&nbsp; e) Copying a List <br>\n",
    " &nbsp;&nbsp;&nbsp;&nbsp; f) 'in' keyword <br>\n",
    " &nbsp;&nbsp;&nbsp;&nbsp; g) 'not in' keyword <br>\n",
    " &nbsp;&nbsp;&nbsp;&nbsp; i) Checking an Empty List <br>\n",
    " &nbsp;&nbsp;&nbsp;&nbsp; j) Removing Instances with a Loop <br>\n",
    "3) List Comprehensions <br>\n",
    "4) Tuples <br>\n",
    " &nbsp;&nbsp;&nbsp;&nbsp; a) sorted() <br>\n",
    "5) Functions <br>\n",
    " &nbsp;&nbsp;&nbsp;&nbsp; a) User-Defined vs. Built-In Functions <br>\n",
    " &nbsp;&nbsp;&nbsp;&nbsp; b) Accepting Parameters <br>\n",
    " &nbsp;&nbsp;&nbsp;&nbsp; c) Default Parameters <br>\n",
    " &nbsp;&nbsp;&nbsp;&nbsp; d) Making an Argument Optional <br>\n",
    " &nbsp;&nbsp;&nbsp;&nbsp; e) Keyword Arguments <br>\n",
    " &nbsp;&nbsp;&nbsp;&nbsp; f) Returning Values <br>\n",
    " &nbsp;&nbsp;&nbsp;&nbsp; g) *args <br>\n",
    " &nbsp;&nbsp;&nbsp;&nbsp; h) Docstring <br>\n",
    " &nbsp;&nbsp;&nbsp;&nbsp; i) Using a User Function in a Loop <br>\n",
    "6) Scope"
   ]
  },
  {
   "cell_type": "markdown",
   "metadata": {},
   "source": [
    "### String Manipulation"
   ]
  },
  {
   "cell_type": "markdown",
   "metadata": {},
   "source": [
    "##### .lstrip()"
   ]
  },
  {
   "cell_type": "code",
   "execution_count": 8,
   "metadata": {},
   "outputs": [
    {
     "name": "stdout",
     "output_type": "stream",
     "text": [
      "John Smith\n"
     ]
    }
   ],
   "source": [
    "# string.lstrip()\n",
    "\n",
    "name = \"         hJohn Smith\"\n",
    "stripped_name = name.lstrip(\" \"\"h\")\n",
    "print(stripped_name)"
   ]
  },
  {
   "cell_type": "markdown",
   "metadata": {},
   "source": [
    "##### .rstrip()"
   ]
  },
  {
   "cell_type": "code",
   "execution_count": 9,
   "metadata": {},
   "outputs": [
    {
     "name": "stdout",
     "output_type": "stream",
     "text": [
      "Bill Ross\n"
     ]
    }
   ],
   "source": [
    "# string.rstrip()\n",
    "name = \"Bill Ross      th\"\n",
    "print(name.rstrip(\" \" \"th\"))"
   ]
  },
  {
   "cell_type": "markdown",
   "metadata": {},
   "source": [
    "##### .strip()"
   ]
  },
  {
   "cell_type": "code",
   "execution_count": 10,
   "metadata": {},
   "outputs": [
    {
     "name": "stdout",
     "output_type": "stream",
     "text": [
      "John Smith\n"
     ]
    }
   ],
   "source": [
    "# string.strip()\n",
    "name = \"      John Smith        \"\n",
    "print(name.strip())"
   ]
  },
  {
   "cell_type": "markdown",
   "metadata": {},
   "source": [
    "##### .title()"
   ]
  },
  {
   "cell_type": "code",
   "execution_count": 11,
   "metadata": {},
   "outputs": [
    {
     "name": "stdout",
     "output_type": "stream",
     "text": [
      "Barack Obama\n"
     ]
    }
   ],
   "source": [
    "# string.title()\n",
    "president = \"barack obama\"\n",
    "print(president.title())"
   ]
  },
  {
   "cell_type": "markdown",
   "metadata": {},
   "source": [
    "### String Exercise <br>\n",
    "<p>Strip all white space and capitalize every name in the list given</p>"
   ]
  },
  {
   "cell_type": "code",
   "execution_count": 20,
   "metadata": {},
   "outputs": [
    {
     "name": "stdout",
     "output_type": "stream",
     "text": [
      "['Connor', 'Max', 'Evan', 'Jordan']\n"
     ]
    }
   ],
   "source": [
    "names = ['    coNNor', 'max', ' EVan ', 'JORDAN']\n",
    "# HINT: You will need to use a for loop for iteration\n",
    "\n",
    "for i in range(len(names)):\n",
    "    names[i] = names[i].strip().title()\n",
    "print(names)\n"
   ]
  },
  {
   "cell_type": "markdown",
   "metadata": {},
   "source": [
    "### Working With Lists"
   ]
  },
  {
   "cell_type": "markdown",
   "metadata": {},
   "source": [
    "##### min()"
   ]
  },
  {
   "cell_type": "code",
   "execution_count": 22,
   "metadata": {},
   "outputs": [
    {
     "name": "stdout",
     "output_type": "stream",
     "text": [
      "4\n"
     ]
    }
   ],
   "source": [
    "# min(list)\n",
    "numbers = [4, 5, 97, 54, 16]\n",
    "\n",
    "print(min(numbers))"
   ]
  },
  {
   "cell_type": "markdown",
   "metadata": {},
   "source": [
    "##### max()"
   ]
  },
  {
   "cell_type": "code",
   "execution_count": 23,
   "metadata": {},
   "outputs": [
    {
     "name": "stdout",
     "output_type": "stream",
     "text": [
      "97\n"
     ]
    }
   ],
   "source": [
    "# max(list)\n",
    "print(max(numbers))"
   ]
  },
  {
   "cell_type": "markdown",
   "metadata": {},
   "source": [
    "##### sum()"
   ]
  },
  {
   "cell_type": "code",
   "execution_count": 24,
   "metadata": {},
   "outputs": [
    {
     "name": "stdout",
     "output_type": "stream",
     "text": [
      "176\n"
     ]
    }
   ],
   "source": [
    "# sum(list)\n",
    "print(sum(numbers))"
   ]
  },
  {
   "cell_type": "markdown",
   "metadata": {},
   "source": [
    "##### sorted()"
   ]
  },
  {
   "cell_type": "code",
   "execution_count": 30,
   "metadata": {},
   "outputs": [
    {
     "name": "stdout",
     "output_type": "stream",
     "text": [
      "[4, 5, 16, 54, 97]\n",
      "[4, 5, 16, 54, 97]\n",
      "[4, 5, 16, 54, 97]\n"
     ]
    }
   ],
   "source": [
    "# sorted(list)\n",
    "\n",
    "print(numbers)\n",
    "\n",
    "sorted_numbers = sorted(numbers)\n",
    "print(sorted_numbers)\n",
    "\n",
    "print(numbers)"
   ]
  },
  {
   "cell_type": "markdown",
   "metadata": {},
   "source": [
    "##### .sort() <br>\n",
    "<p>Difference between sort and sorted, is that sorted doesn't change original list it returns a copy, while .sort changes the original list</p>"
   ]
  },
  {
   "cell_type": "code",
   "execution_count": 29,
   "metadata": {},
   "outputs": [
    {
     "name": "stdout",
     "output_type": "stream",
     "text": [
      "Before sort: [4, 5, 16, 54, 97]\n",
      "None\n",
      "[4, 5, 16, 54, 97]\n"
     ]
    }
   ],
   "source": [
    "# list.sort()\n",
    "\n",
    "print(f\"Before sort: {numbers}\")\n",
    "print(numbers.sort()) #<<< operats as a function thus the return of none \n",
    "print(numbers)\n",
    "\n",
    "# use sorted when you don't want to alter original list, use .sort() when you want to alter original list"
   ]
  },
  {
   "cell_type": "markdown",
   "metadata": {},
   "source": [
    "##### Copying a List"
   ]
  },
  {
   "cell_type": "code",
   "execution_count": 31,
   "metadata": {},
   "outputs": [
    {
     "name": "stdout",
     "output_type": "stream",
     "text": [
      "[4, 5, 16, 54, 97]\n"
     ]
    }
   ],
   "source": [
    "# [:] copies a list, doesn't alter original\n",
    "\n",
    "list_1 = numbers[:]\n",
    "print(list_1)\n"
   ]
  },
  {
   "cell_type": "markdown",
   "metadata": {},
   "source": [
    "##### 'in' keyword"
   ]
  },
  {
   "cell_type": "code",
   "execution_count": 36,
   "metadata": {},
   "outputs": [
    {
     "name": "stdout",
     "output_type": "stream",
     "text": [
      "Not Found\n",
      "Not Found\n",
      "Found\n",
      "Not Found\n",
      "Not Found\n"
     ]
    }
   ],
   "source": [
    "l_teachers = [\"Joel\", \"Derek\", \"Conner\", \"Brian\", \"Joe\"]\n",
    "\n",
    "# if \"Derek\" in l_teachers: \n",
    "#     print(\"Coding Temple Instructor\")\n",
    "# else:\n",
    "#     print(\"Not an instructor\")\n",
    "\n",
    "for name in l_teachers: \n",
    "    if \"C\" in name: \n",
    "        print(\"Found\")\n",
    "    else: \n",
    "        print(\"Not Found\")"
   ]
  },
  {
   "cell_type": "markdown",
   "metadata": {},
   "source": [
    "##### 'not in' keyword"
   ]
  },
  {
   "cell_type": "code",
   "execution_count": 37,
   "metadata": {},
   "outputs": [
    {
     "name": "stdout",
     "output_type": "stream",
     "text": [
      "NOT a CT Instructor\n"
     ]
    }
   ],
   "source": [
    "if \"zack\" not in l_teachers:\n",
    "    print(\"NOT a CT Instructor\")"
   ]
  },
  {
   "cell_type": "markdown",
   "metadata": {},
   "source": [
    "##### Checking an Empty List"
   ]
  },
  {
   "cell_type": "code",
   "execution_count": 38,
   "metadata": {},
   "outputs": [
    {
     "name": "stdout",
     "output_type": "stream",
     "text": [
      "Is Mayo an instrument?\n"
     ]
    }
   ],
   "source": [
    "# if l_1: or if l_1 = []\n",
    "\n",
    "list_2 = []\n",
    "\n",
    "if list_2 ==[]:\n",
    "    print(\"Is Mayo an instrument?\")"
   ]
  },
  {
   "cell_type": "markdown",
   "metadata": {},
   "source": [
    "##### Removing Instances with a Loop"
   ]
  },
  {
   "cell_type": "code",
   "execution_count": 52,
   "metadata": {},
   "outputs": [
    {
     "name": "stdout",
     "output_type": "stream",
     "text": [
      "['Connor', 'Joel', 'Max', 'Rob']\n"
     ]
    }
   ],
   "source": [
    "# while, remove\n",
    "names = [\"Connor\", \"Joel\", \"Max\", \"Evan\", \"Rob\", \"Evan\"]\n",
    "\n",
    "# while \"Evan\" in names: \n",
    "#     names.remove(\"Evan\")\n",
    "# print(names)\n",
    "\n",
    "for name in names: \n",
    "    if name == \"Evan\": \n",
    "        names.remove(\"Evan\")\n",
    "print(names)\n"
   ]
  },
  {
   "cell_type": "markdown",
   "metadata": {},
   "source": [
    "### List Exercise <br>\n",
    "<p>Remove all duplicates<br><b>Extra: Create a program that will remove any duplicates from a given list</b></p>"
   ]
  },
  {
   "cell_type": "code",
   "execution_count": 54,
   "metadata": {},
   "outputs": [
    {
     "name": "stdout",
     "output_type": "stream",
     "text": [
      "['connor', 'bob', 'evan', 'max', 2, 3, 4, 'kevin']\n"
     ]
    }
   ],
   "source": [
    "names = ['connor', 'connor', 'bob', 'connor', 'evan', 'max', 'evan', 2, 2, 2, 3, 3, 4, 'bob', 'kevin']\n",
    "# Hint 1: You will need an append\n",
    "# Hint 2: Using an empty list will make life easier\n",
    "\n",
    "copynames = []\n",
    "\n",
    "for i in range(len(names)):\n",
    "    copy = names[i]\n",
    "    if copy not in copynames:\n",
    "        copynames.append(copy)\n",
    "    else:\n",
    "        continue\n",
    "        \n",
    "print(copynames)"
   ]
  },
  {
   "cell_type": "markdown",
   "metadata": {},
   "source": [
    "### List Comprehensions <br>\n",
    "<p>Creating a quickly generated list to work with<br>*result*  = [*transform*    *iteration*         *filter*     ]</p>"
   ]
  },
  {
   "cell_type": "markdown",
   "metadata": {},
   "source": [
    "##### In a list comprehension we have a few pieces:\n",
    "1. The first is the counter/ variable - IN this the variable is x\n",
    "2. then we have a transform for the variable\n",
    "3. The finale part of a list comp is called the condition\n",
    "\n",
    "```python\n",
    "    [transform, variable, condition]\n",
    "```"
   ]
  },
  {
   "cell_type": "code",
   "execution_count": 58,
   "metadata": {},
   "outputs": [
    {
     "name": "stdout",
     "output_type": "stream",
     "text": [
      "[0, 4, 16, 36, 64, 100, 144, 196, 256, 324, 400, 484, 576, 676, 784, 900, 1024, 1156, 1296, 1444, 1600, 1764, 1936, 2116, 2304, 2500, 2704, 2916, 3136, 3364, 3600, 3844, 4096, 4356, 4624, 4900, 5184, 5476, 5776, 6084, 6400, 6724, 7056, 7396, 7744, 8100, 8464, 8836, 9216, 9604]\n",
      "\n",
      "\n",
      "[0, 4, 16, 36, 64, 100, 144, 196, 256, 324, 400, 484, 576, 676, 784, 900, 1024, 1156, 1296, 1444, 1600, 1764, 1936, 2116, 2304, 2500, 2704, 2916, 3136, 3364, 3600, 3844, 4096, 4356, 4624, 4900, 5184, 5476, 5776, 6084, 6400, 6724, 7056, 7396, 7744, 8100, 8464, 8836, 9216, 9604]\n"
     ]
    }
   ],
   "source": [
    "# number comprehension\n",
    "\n",
    "# With a regular for loop\n",
    "\n",
    "nums = []\n",
    "\n",
    "for i in range(100):\n",
    "    if i %2 == 0:\n",
    "        nums.append(i**2)\n",
    "print(nums)\n",
    "\n",
    "# [transform, variable, condition]\n",
    "\n",
    "print(\"\\n\")\n",
    "nums_comp = [i**2 for i in range(100) if i%2 == 0]\n",
    "print(nums)\n"
   ]
  },
  {
   "cell_type": "markdown",
   "metadata": {},
   "source": [
    "There are a few benefits to using List comprehensions. The most obvious would be that we now have shorter code to work with instead of using 3+ lines of code in the for loop variant.\n",
    "\n",
    "Another is an added benefit to memory usage. Since the list's memory is allocated first before adding elements to it, we don't have to resize the list once we add elements to it.\n",
    "\n",
    "Lastly, list comprehensions are considered the \"pythonic\" way to write code by the PEP8 standards (Python Style Guide)"
   ]
  },
  {
   "cell_type": "code",
   "execution_count": 59,
   "metadata": {},
   "outputs": [
    {
     "name": "stdout",
     "output_type": "stream",
     "text": [
      "[0, 1, 4, 9, 16, 25, 36, 49, 64, 81]\n",
      "\n",
      "\n",
      "[0, 1, 4, 9, 16, 25, 36, 49, 64, 81]\n"
     ]
    }
   ],
   "source": [
    "# square number comprehension\n",
    "\n",
    "print([x**2 for x in range(10)])\n",
    "\n",
    "print(\"\\n\")\n",
    "\n",
    "square_reg = []\n",
    "for x in range(10):\n",
    "    square_reg.append(x**2)\n",
    "print(square_reg)\n"
   ]
  },
  {
   "cell_type": "code",
   "execution_count": 63,
   "metadata": {},
   "outputs": [
    {
     "name": "stdout",
     "output_type": "stream",
     "text": [
      "['C', 'M', 'E', 'R']\n",
      "['C', 'M', 'E', 'R']\n"
     ]
    }
   ],
   "source": [
    "# string comprehension\n",
    "\n",
    "names = [\"Conner\", \"Max\", \"Evan\", \"Rob\"]\n",
    "\n",
    "first_char_comp = [name[0] for name in names]\n",
    "print(first_char_comp)\n",
    "\n",
    "first_char = []\n",
    "for name in names:\n",
    "    first_char.append(name[0])\n",
    "print(first_char)\n"
   ]
  },
  {
   "cell_type": "code",
   "execution_count": 64,
   "metadata": {},
   "outputs": [
    {
     "name": "stdout",
     "output_type": "stream",
     "text": [
      "['Conner']\n",
      "['Conner']\n"
     ]
    }
   ],
   "source": [
    "c_names = [first_name for first_name in names if first_name[0]==\"C\"]\n",
    "print(c_names)\n",
    "\n",
    "c_names_reg = []\n",
    "\n",
    "for first_name in names:\n",
    "    if first_name[0] == \"C\":\n",
    "        c_names_reg.append(first_name)\n",
    "        \n",
    "print(c_names_reg)"
   ]
  },
  {
   "cell_type": "code",
   "execution_count": null,
   "metadata": {},
   "outputs": [],
   "source": []
  },
  {
   "cell_type": "markdown",
   "metadata": {},
   "source": [
    "### Tuples <br>\n",
    "<p><b>Defined as an immutable list</b></p><br>Seperated by commas using parenthesis"
   ]
  },
  {
   "cell_type": "code",
   "execution_count": 70,
   "metadata": {},
   "outputs": [
    {
     "name": "stdout",
     "output_type": "stream",
     "text": [
      "1\n",
      "3\n",
      "1\n",
      "2\n",
      "3\n"
     ]
    },
    {
     "ename": "AttributeError",
     "evalue": "'tuple' object has no attribute 'append'",
     "output_type": "error",
     "traceback": [
      "\u001b[1;31m---------------------------------------------------------------------------\u001b[0m",
      "\u001b[1;31mAttributeError\u001b[0m                            Traceback (most recent call last)",
      "Input \u001b[1;32mIn [70]\u001b[0m, in \u001b[0;36m<cell line: 16>\u001b[1;34m()\u001b[0m\n\u001b[0;32m     15\u001b[0m \u001b[38;5;66;03m#Looping over a tuple with an index using range and len\u001b[39;00m\n\u001b[0;32m     16\u001b[0m \u001b[38;5;28;01mfor\u001b[39;00m number \u001b[38;5;129;01min\u001b[39;00m \u001b[38;5;28mrange\u001b[39m(\u001b[38;5;28mlen\u001b[39m(tup_1)):\n\u001b[1;32m---> 17\u001b[0m     \u001b[43mtup_1\u001b[49m\u001b[38;5;241;43m.\u001b[39;49m\u001b[43mappend\u001b[49m(number)\n\u001b[0;32m     18\u001b[0m     \u001b[38;5;28mprint\u001b[39m(popped_num)\n",
      "\u001b[1;31mAttributeError\u001b[0m: 'tuple' object has no attribute 'append'"
     ]
    }
   ],
   "source": [
    "tup_1 = 1, 2, 3 #First way of creating a tuple\n",
    "tup_2 = (1, 2, 3) #Other way of creating a tuple\n",
    "\n",
    "# print(type(tup_1))\n",
    "# print(type(tup_2))\n",
    "\n",
    "print(tup_1[0])\n",
    "\n",
    "print(len(tup_1))\n",
    "\n",
    "#Looping over tuples\n",
    "for number in tup_1:\n",
    "    print(number)\n",
    "    \n",
    "#Looping over a tuple with an index using range and len\n",
    "for number in range(len(tup_1)):\n",
    "    tup_1.append(number)\n",
    "    print(popped_num)"
   ]
  },
  {
   "cell_type": "markdown",
   "metadata": {},
   "source": [
    "##### sorted()"
   ]
  },
  {
   "cell_type": "code",
   "execution_count": 75,
   "metadata": {},
   "outputs": [
    {
     "name": "stdout",
     "output_type": "stream",
     "text": [
      "[1, 3, 5, 9, 20, 45]\n",
      "(1, 3, 3, 4, 5, 9, 20, 33, 45, 66, 77)\n",
      "<class 'list'>\n",
      "(20, 5, 1, 3, 9, 45)\n"
     ]
    }
   ],
   "source": [
    "tup3 = (20, 5, 1, 3, 9, 45)\n",
    "\n",
    "sorted_tup = sorted(tup3)\n",
    "print(sorted_tup)\n",
    "\n",
    "random_list = [3, 4, 66, 77, 33]\n",
    "combine_list = sorted(sorted_tup+random_list)\n",
    "\n",
    "new_tup = tuple(combine_list)\n",
    "print(new_tup)\n",
    "print(type(sorted_tup))\n",
    "print(tup3)"
   ]
  },
  {
   "cell_type": "markdown",
   "metadata": {},
   "source": [
    "##### Adding values to a Tuple"
   ]
  },
  {
   "cell_type": "code",
   "execution_count": 76,
   "metadata": {},
   "outputs": [
    {
     "name": "stdout",
     "output_type": "stream",
     "text": [
      "(1, 2, 3)\n",
      "(1, 2, 3, 5)\n"
     ]
    }
   ],
   "source": [
    "print(tup_1)\n",
    "\n",
    "tup_1 = tup_1 + (5,)\n",
    "print(tup_1)"
   ]
  },
  {
   "cell_type": "markdown",
   "metadata": {},
   "source": [
    "## Functions"
   ]
  },
  {
   "cell_type": "markdown",
   "metadata": {},
   "source": [
    "##### User-Defined vs. Built-In Functions"
   ]
  },
  {
   "cell_type": "code",
   "execution_count": 80,
   "metadata": {},
   "outputs": [
    {
     "name": "stdout",
     "output_type": "stream",
     "text": [
      "Hello World\n"
     ]
    }
   ],
   "source": [
    "# user defined!\n",
    "def sayHello():\n",
    "    return \"Hello World\"\n",
    "\n",
    "sayHello()\n",
    "\n",
    "print(sayHello())"
   ]
  },
  {
   "cell_type": "markdown",
   "metadata": {},
   "source": [
    "##### Accepting Parameters"
   ]
  },
  {
   "cell_type": "code",
   "execution_count": 89,
   "metadata": {},
   "outputs": [
    {
     "name": "stdout",
     "output_type": "stream",
     "text": [
      "What is your first name? Sierra\n",
      "Hello, Joel Carter\n",
      "Hello, Sierra Bounds\n",
      "Hello, a Carter\n",
      "Hello, b Carter\n",
      "Hello, c Carter\n",
      "Hello, d Carter\n"
     ]
    }
   ],
   "source": [
    "# Arguments or parameters\n",
    "# ORder matters\n",
    "#a variable can be of any type of object\n",
    "\n",
    "def printFullName(first_name, last_name):\n",
    "    return f\"Hello, {first_name} {last_name}\"\n",
    "\n",
    "a_name = input(\"What is your first name? \")\n",
    "\n",
    "print(printFullName(\"Joel\", \"Carter\"))\n",
    "print(printFullName(a_name, \"Bounds\"))\n",
    "print(printFullName(\"a\", \"Carter\"))\n",
    "print(printFullName(\"b\", \"Carter\"))\n",
    "print(printFullName(\"c\", \"Carter\"))\n",
    "print(printFullName(\"d\", \"Carter\"))\n",
    "                  "
   ]
  },
  {
   "cell_type": "markdown",
   "metadata": {},
   "source": [
    "##### Default Parameters"
   ]
  },
  {
   "cell_type": "code",
   "execution_count": 95,
   "metadata": {},
   "outputs": [
    {
     "name": "stdout",
     "output_type": "stream",
     "text": [
      "The name is Bond ... Sierra Bond\n",
      "The name is Bond ... Greatest Bond\n"
     ]
    }
   ],
   "source": [
    "# Default parameters ned to be declared AFTER non-default parameters each time\n",
    "\n",
    "def printAgentName(first_name, last_name = \"Bond\"):\n",
    "    return f\"The name is {last_name} ... {first_name} {last_name}\"\n",
    "\n",
    "print(printAgentName(\"Sierra\"))\n",
    "\n",
    "#DONT DO THIS \n",
    "# def printAgentName(last_name = \"Bond\", first_name):\n",
    "#     return f\"The name is {last_name} ... {first_name} {last_name}\"\n",
    "\n",
    "print(printAgentName(first_name = \"Greatest\"))"
   ]
  },
  {
   "cell_type": "markdown",
   "metadata": {},
   "source": [
    "##### Making an Argument Optional"
   ]
  },
  {
   "cell_type": "code",
   "execution_count": 97,
   "metadata": {},
   "outputs": [
    {
     "data": {
      "text/plain": [
       "'Hello Mr   Ed'"
      ]
     },
     "execution_count": 97,
     "metadata": {},
     "output_type": "execute_result"
    }
   ],
   "source": [
    "def printHorseName(first, middle = \" \", last = \"Ed\"):\n",
    "    return f\"Hello {first} {middle} {last}\"\n",
    "\n",
    "printHorseName(\"Mr\")"
   ]
  },
  {
   "cell_type": "markdown",
   "metadata": {},
   "source": [
    "##### Keyword Arguments"
   ]
  },
  {
   "cell_type": "code",
   "execution_count": 100,
   "metadata": {},
   "outputs": [
    {
     "data": {
      "text/plain": [
       "\"The hero's name is Spiderman and the superpower is Spidy sense\""
      ]
     },
     "execution_count": 100,
     "metadata": {},
     "output_type": "execute_result"
    }
   ],
   "source": [
    "def printSuperHero(name, power=\"flying\"):\n",
    "    return f\"The hero's name is {name} and the superpower is {power}\"\n",
    "\n",
    "printSuperHero(power = \"Spidy sense\", name = \"Spiderman\")"
   ]
  },
  {
   "cell_type": "markdown",
   "metadata": {},
   "source": [
    "# Creating a start, stop, step function"
   ]
  },
  {
   "cell_type": "code",
   "execution_count": 103,
   "metadata": {},
   "outputs": [
    {
     "name": "stdout",
     "output_type": "stream",
     "text": [
      "5\n",
      "7\n",
      "9\n",
      "11\n",
      "13\n",
      "15\n",
      "17\n",
      "19\n"
     ]
    }
   ],
   "source": [
    "def my_range(stop, start=0, step=1):\n",
    "    for i in range(start,stop,step):\n",
    "        print(i)\n",
    "    \n",
    "my_range(20,5,2)"
   ]
  },
  {
   "cell_type": "markdown",
   "metadata": {},
   "source": [
    "##### Returning Values"
   ]
  },
  {
   "cell_type": "code",
   "execution_count": 104,
   "metadata": {},
   "outputs": [
    {
     "data": {
      "text/plain": [
       "7"
      ]
     },
     "execution_count": 104,
     "metadata": {},
     "output_type": "execute_result"
    }
   ],
   "source": [
    "def addNums(num1, num2):\n",
    "    return num1 + num2\n",
    "\n",
    "addNums(5,2)"
   ]
  },
  {
   "cell_type": "markdown",
   "metadata": {},
   "source": [
    "##### *args"
   ]
  },
  {
   "cell_type": "code",
   "execution_count": 108,
   "metadata": {},
   "outputs": [
    {
     "name": "stdout",
     "output_type": "stream",
     "text": [
      "36\n",
      "('DragonZord', 'vanilla', 2, 3)\n",
      "{'testing': 'Joel'}\n",
      "DragonZord\n",
      "vanilla\n",
      "2\n",
      "3\n",
      "testing\n"
     ]
    }
   ],
   "source": [
    "# ARGS stands for arguments and takes any number of arguments as parameters\n",
    "#must be last if multiple parameters are present \n",
    "\n",
    "def printArgs(num1, *args, **kwargs):\n",
    "    print(num1)\n",
    "    print(args)\n",
    "    print(kwargs)\n",
    "    \n",
    "    for arg in args:\n",
    "        print(arg)\n",
    "        \n",
    "    for kwarg in kwargs:\n",
    "        print(kwarg)\n",
    "    \n",
    "printArgs(36,\"DragonZord\", \"vanilla\", 2, 3, testing=\"Joel\")"
   ]
  },
  {
   "cell_type": "markdown",
   "metadata": {},
   "source": [
    "##### Docstring"
   ]
  },
  {
   "cell_type": "code",
   "execution_count": 112,
   "metadata": {},
   "outputs": [
    {
     "name": "stdout",
     "output_type": "stream",
     "text": [
      "George\n",
      "roman\n",
      "Peter\n",
      "Help on function printNames in module __main__:\n",
      "\n",
      "printNames(list_1)\n",
      "    Function requires a list to be based as a paremter\n",
      "    and will print the contens of the list. Expecting a list of\n",
      "    names(strings) to be passed.\n",
      "\n"
     ]
    }
   ],
   "source": [
    "def printNames(list_1):\n",
    "    '''\n",
    "    Function requires a list to be based as a paremter\n",
    "    and will print the contens of the list. Expecting a list of\n",
    "    names(strings) to be passed. \n",
    "    '''\n",
    "    \n",
    "    for name in list_1:\n",
    "        print(name)\n",
    "        \n",
    "printNames([\"George\", \"roman\", \"Peter\"])\n",
    "help(printNames)"
   ]
  },
  {
   "cell_type": "markdown",
   "metadata": {},
   "source": [
    "##### Using a User Function in a Loop"
   ]
  },
  {
   "cell_type": "code",
   "execution_count": 113,
   "metadata": {},
   "outputs": [
    {
     "name": "stdout",
     "output_type": "stream",
     "text": [
      "Are you ready to quit?? No\n",
      "What do you want to do? idk\n",
      "idk\n",
      "Ready yet? quit\n"
     ]
    }
   ],
   "source": [
    "def printInput(answer):\n",
    "    print(answer)\n",
    "    \n",
    "response = input(\"Are you ready to quit?? \")\n",
    "\n",
    "while True: \n",
    "    ask = input(\"What do you want to do? \")\n",
    "    printInput(ask)\n",
    "    \n",
    "    response = input(\"Ready yet? \")\n",
    "    if response.lower() ==\"quit\":\n",
    "        break"
   ]
  },
  {
   "cell_type": "markdown",
   "metadata": {},
   "source": [
    "## Function Exercise <br>\n",
    "<p>Write a function that loops through a list of first_names and a list of last_names, combines the two and return a list of full_names</p>"
   ]
  },
  {
   "cell_type": "code",
   "execution_count": 116,
   "metadata": {},
   "outputs": [
    {
     "name": "stdout",
     "output_type": "stream",
     "text": [
      "['John Smith', 'Evan Smith', 'Jordan Williams', 'Max Bell']\n"
     ]
    }
   ],
   "source": [
    "first_name = ['John', 'Evan', 'Jordan', 'Max']\n",
    "last_name = ['Smith', 'Smith', 'Williams', 'Bell']\n",
    "\n",
    "# Output: ['John Smith', 'Evan Smith', 'Jordan Williams', 'Max Bell']\n",
    "\n",
    "def fullName(first, last):\n",
    "    fullnames = []\n",
    "    if len(first) == len(last):\n",
    "        for i in range(len(first)):\n",
    "            full_name = first[i] +\" \"+ last[i]\n",
    "            fullnames.append(full_name)\n",
    "        print(fullnames)\n",
    "\n",
    "fullName(first_name, last_name)\n",
    "\n"
   ]
  },
  {
   "cell_type": "markdown",
   "metadata": {},
   "source": [
    "## Scope <br>\n",
    "<p>Scope refers to the ability to access variables, different types of scope include:<br>a) Global<br>b) Function (local)<br>c) Class (local)</p>"
   ]
  },
  {
   "cell_type": "code",
   "execution_count": 122,
   "metadata": {},
   "outputs": [
    {
     "name": "stdout",
     "output_type": "stream",
     "text": [
      "7\n",
      "10\n"
     ]
    }
   ],
   "source": [
    "number = 3 # Global variable; accessible ANYWHERE in my code now\n",
    "\n",
    "def myFunc():\n",
    "    number = 6 #Local function variable\n",
    "    number += 4\n",
    "    return number\n",
    "\n",
    "print(number + 4)\n",
    "print(myFunc())"
   ]
  },
  {
   "cell_type": "markdown",
   "metadata": {},
   "source": [
    "# Exercises"
   ]
  },
  {
   "cell_type": "markdown",
   "metadata": {},
   "source": [
    "## Exercise 1 <br>\n",
    "<p>Given a list as a parameter,write a function that returns a list of numbers that are less than ten</b></i></p><br>\n",
    "<p> For example: Say your input parameter to the function is [1,11,14,5,8,9]...Your output should [1,5,8,9]</p>"
   ]
  },
  {
   "cell_type": "code",
   "execution_count": 130,
   "metadata": {},
   "outputs": [
    {
     "name": "stdout",
     "output_type": "stream",
     "text": [
      "[1, 5, 8, 9]\n"
     ]
    }
   ],
   "source": [
    "# Use the following list - [1,11,14,5,8,9]\n",
    "\n",
    "l_1 = [1,11,14,5,8,9]\n",
    "\n",
    "def lessThanTen(lista):\n",
    "    small_nums = [lista[i] for i in range(len(lista)) if lista[i] < 10]\n",
    "    print(small_nums)\n",
    "    \n",
    "lessThanTen(l_1)"
   ]
  },
  {
   "cell_type": "markdown",
   "metadata": {},
   "source": [
    "## Exercise 2 <br>\n",
    "<p>Write a function that takes in two lists and returns the two lists merged together and sorted<br>\n",
    "<b><i>Hint: You can use the .sort() method</i></b></p>"
   ]
  },
  {
   "cell_type": "code",
   "execution_count": 151,
   "metadata": {},
   "outputs": [
    {
     "name": "stdout",
     "output_type": "stream",
     "text": [
      "[1, 2, 3, 3, 4, 4, 5, 5, 6, 6, 7, 8, 10]\n"
     ]
    }
   ],
   "source": [
    "l_1 = [1,2,3,4,5,6]\n",
    "l_2 = [3,4,5,6,7,8,10]\n",
    "\n",
    "\n",
    "def mergedLists(lista, listb):\n",
    "    merge = lista + listb\n",
    "    merge.sort()\n",
    "    print(merge)\n",
    "    \n",
    "\n",
    "\n",
    "mergedLists(l_1, l_2)\n"
   ]
  },
  {
   "cell_type": "code",
   "execution_count": null,
   "metadata": {},
   "outputs": [],
   "source": []
  },
  {
   "cell_type": "code",
   "execution_count": null,
   "metadata": {},
   "outputs": [],
   "source": []
  }
 ],
 "metadata": {
  "kernelspec": {
   "display_name": "Python 3 (ipykernel)",
   "language": "python",
   "name": "python3"
  },
  "language_info": {
   "codemirror_mode": {
    "name": "ipython",
    "version": 3
   },
   "file_extension": ".py",
   "mimetype": "text/x-python",
   "name": "python",
   "nbconvert_exporter": "python",
   "pygments_lexer": "ipython3",
   "version": "3.9.12"
  }
 },
 "nbformat": 4,
 "nbformat_minor": 2
}
